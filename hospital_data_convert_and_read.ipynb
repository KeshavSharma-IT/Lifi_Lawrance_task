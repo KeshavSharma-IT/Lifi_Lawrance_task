{
 "cells": [
  {
   "cell_type": "code",
   "execution_count": 1,
   "metadata": {},
   "outputs": [],
   "source": [
    "import sqlite3\n",
    "import pandas as pd\n",
    "\n"
   ]
  },
  {
   "cell_type": "code",
   "execution_count": 2,
   "metadata": {},
   "outputs": [],
   "source": [
    "# converting DB file into csv or if we have any data file(excel,txt,csv) \n",
    "# other then DB then we can directly use pandas to read it\n",
    "\n",
    "# define connection\n",
    "conn=sqlite3.connect(\"hospital.db\")\n",
    "\n",
    "DB_file = '''select * from Hospital_Data'''\n",
    "df = pd.read_sql_query(DB_file,conn)\n",
    "dataframe = pd.DataFrame(df)\n",
    "dataframe.to_csv(\"hospital_Data_Convert.csv\",sep='|',index=False)"
   ]
  },
  {
   "cell_type": "code",
   "execution_count": 3,
   "metadata": {},
   "outputs": [
    {
     "name": "stdout",
     "output_type": "stream",
     "text": [
      "  Customer_Name|Customer_Id|Open_Date|Last_Consulted_Date|Vaccination_Type|Doctor_Consulted|State|Country|Post_Code|DOB|Active_Customer\n",
      "0  Alex|123457|20101012|20121013|MVD|Paul|SA|USA|...                                                                                   \n",
      "1  John|123458|20101012|20121013|MVD|Paul|TN|IND|...                                                                                   \n",
      "2  Mathew|123459|20101012|20121013|MVD|Paul|WAS|P...                                                                                   \n",
      "3  Matt|12345|20101012|20121013|MVD|Paul|BOS|NYC|...                                                                                   \n",
      "4  Jacob|1256|20101012|20121013|MVD|Paul|VIC|AU|4...                                                                                   \n"
     ]
    }
   ],
   "source": [
    "\n",
    "data = pd.read_csv(\"hospital_Data_Convert.csv\")\n",
    "print(data)"
   ]
  },
  {
   "cell_type": "code",
   "execution_count": 4,
   "metadata": {},
   "outputs": [
    {
     "data": {
      "text/plain": [
       "array([['Alex|123457|20101012|20121013|MVD|Paul|SA|USA|42516|6031987|A'],\n",
       "       ['John|123458|20101012|20121013|MVD|Paul|TN|IND|42587|6031987|A'],\n",
       "       ['Mathew|123459|20101012|20121013|MVD|Paul|WAS|PHIL|45289|6031987|A'],\n",
       "       ['Matt|12345|20101012|20121013|MVD|Paul|BOS|NYC|45127|6031987|A'],\n",
       "       ['Jacob|1256|20101012|20121013|MVD|Paul|VIC|AU|49875|6031987|A']],\n",
       "      dtype=object)"
      ]
     },
     "execution_count": 4,
     "metadata": {},
     "output_type": "execute_result"
    }
   ],
   "source": [
    "data.values"
   ]
  }
 ],
 "metadata": {
  "kernelspec": {
   "display_name": "Python 3",
   "language": "python",
   "name": "python3"
  },
  "language_info": {
   "codemirror_mode": {
    "name": "ipython",
    "version": 3
   },
   "file_extension": ".py",
   "mimetype": "text/x-python",
   "name": "python",
   "nbconvert_exporter": "python",
   "pygments_lexer": "ipython3",
   "version": "3.8.5"
  }
 },
 "nbformat": 4,
 "nbformat_minor": 4
}
